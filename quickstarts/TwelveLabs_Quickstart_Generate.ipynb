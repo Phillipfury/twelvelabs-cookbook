{
  "nbformat": 4,
  "nbformat_minor": 0,
  "metadata": {
    "colab": {
      "provenance": []
    },
    "kernelspec": {
      "name": "python3",
      "display_name": "Python 3"
    },
    "language_info": {
      "name": "python"
    }
  },
  "cells": [
    {
      "cell_type": "markdown",
      "source": [
        "##**Installation of TwelveLabs SDKs**"
      ],
      "metadata": {
        "id": "VmpYRcFNT30r"
      }
    },
    {
      "cell_type": "code",
      "execution_count": 1,
      "metadata": {
        "id": "ME3drNyaS-dV",
        "colab": {
          "base_uri": "https://localhost:8080/"
        },
        "outputId": "757cb118-1cf8-4ce0-f941-b7c7759e7866"
      },
      "outputs": [
        {
          "output_type": "stream",
          "name": "stdout",
          "text": [
            "\u001b[2K     \u001b[90m━━━━━━━━━━━━━━━━━━━━━━━━━━━━━━━━━━━━━━━━\u001b[0m \u001b[32m395.8/395.8 kB\u001b[0m \u001b[31m5.2 MB/s\u001b[0m eta \u001b[36m0:00:00\u001b[0m\n",
            "\u001b[2K     \u001b[90m━━━━━━━━━━━━━━━━━━━━━━━━━━━━━━━━━━━━━━━━\u001b[0m \u001b[32m75.0/75.0 kB\u001b[0m \u001b[31m3.4 MB/s\u001b[0m eta \u001b[36m0:00:00\u001b[0m\n",
            "\u001b[2K     \u001b[90m━━━━━━━━━━━━━━━━━━━━━━━━━━━━━━━━━━━━━━━━\u001b[0m \u001b[32m77.9/77.9 kB\u001b[0m \u001b[31m4.5 MB/s\u001b[0m eta \u001b[36m0:00:00\u001b[0m\n",
            "\u001b[2K     \u001b[90m━━━━━━━━━━━━━━━━━━━━━━━━━━━━━━━━━━━━━━━━\u001b[0m \u001b[32m2.0/2.0 MB\u001b[0m \u001b[31m22.0 MB/s\u001b[0m eta \u001b[36m0:00:00\u001b[0m\n",
            "\u001b[2K     \u001b[90m━━━━━━━━━━━━━━━━━━━━━━━━━━━━━━━━━━━━━━━━\u001b[0m \u001b[32m58.3/58.3 kB\u001b[0m \u001b[31m4.7 MB/s\u001b[0m eta \u001b[36m0:00:00\u001b[0m\n",
            "\u001b[?25h"
          ]
        }
      ],
      "source": [
        "!pip install -U -q twelvelabs\n",
        "from twelvelabs import TwelveLabs\n",
        "from twelvelabs.models.task import Task"
      ]
    },
    {
      "cell_type": "markdown",
      "source": [
        "##**Configure your API key. Add API Key as a env variable.**\n",
        "Signup for TwelveLabs and Get your API keys [here](https://playground.twelvelabs.xyz/dashboard/api-key). No credit card is required to use the Free plan. The Free plan includes indexing of 600 mins of videos, which is enough for a small project.\n",
        "\n",
        "*To run the following cell in a*\n",
        "* *Colab Notebook, your API key must be stored it in a Colab Secret named TL_API_KEY. If you don't already have an API key, or you're not sure how to create a Colab Secret, see [this](https://medium.com/@parthdasawant/how-to-use-secrets-in-google-colab-450c38e3ec75) for an example.*\n",
        "* *In other Python environments, You can also use Python variables using `os.environ()`*\n",
        "\n"
      ],
      "metadata": {
        "id": "G47PrcTKUJEP"
      }
    },
    {
      "cell_type": "code",
      "source": [
        "from google.colab import userdata\n",
        "TL_API_KEY=userdata.get('TL_API_KEY')"
      ],
      "metadata": {
        "id": "9DBGRVboTEue"
      },
      "execution_count": 2,
      "outputs": []
    },
    {
      "cell_type": "markdown",
      "source": [
        "## **Step:1 - Create Index (You can also use an existing Index)**\n",
        "Two main inputs needed for Index creation is the Engine Type and Engine Options. Learn more [here](https://docs.twelvelabs.io/docs/create-indexes).\n",
        "\n",
        "**Twelve Labs provides two distinct engine types** - embedding and generative, each serving unique purposes in multimodal video understanding.\n",
        "\n",
        "* Embedding engines (Marengo) : `marengo2.6` engine is proficient at performing tasks such as search and classification, enabling enhanced video understanding.\n",
        "* Generative engines (Pegasus): `pegasus1` engine generates text based on your videos.\n",
        "Learn more [here](https://docs.twelvelabs.io/docs/video-understanding-engines)\n",
        "\n",
        "> *Video Duration limits: For Marengo, it must be between 4 seconds and 2 hours (7,200s). For Pegasus, it must be between 4 seconds and 20 minutes (1200s). In a future release, the maximum duration for Pegasus will be 2 hours (7,200 seconds).*\n",
        "\n",
        "\n",
        "You can use both engines on the same index but the limits of Pegasus will apply. E.g. If you create an Index with both `Marengo` and `Pegasus` then you will be limited to videos with maximum duration of 20mins.\n",
        "\n",
        "**Engine options** indicate the types of information a video understanding engine will process. When creating a new index, you must specify the engines and the associated engines options that you want to enable.\n",
        "\n",
        "The following engine options are available:\n",
        "\n",
        "* `visual`: This option allows you to analyze video content as you would see and hear from it, including actions, objects, sounds, and events, and excluding human speech.\n",
        "* `conversation`: This option allows you to analyze human speech within your videos.\n",
        "* `text_in_video`: This option allows you to detect and extract text (OCR) shown within your videos. *This option is not available for `Pegasus` Engine type.*\n",
        "* `logo`: This option allows you to identify the presence of brand logos within your videos. *This option is not available for `Pegasus` Engine type.*"
      ],
      "metadata": {
        "id": "zhXzSOCgUdmv"
      }
    },
    {
      "cell_type": "code",
      "source": [
        "import os\n",
        "from glob import glob\n",
        "# The path to the directory containing the videos you wish to upload.\n",
        "VIDEO_PATH = \"ostrich-racing-every-tuesday-thursday.mp4\"  # In a colab Notebook, just upload the file in the root folder and just give the filename.\n",
        "\n",
        "client = TwelveLabs(api_key=TL_API_KEY)\n",
        "\n",
        "index = client.index.create(\n",
        "    name=\"Temp-Generate-2\",\n",
        "    #We will use our Video-to-Text Generation Engine - Pegasus. This option does not support `text_in_video` and `logo` options.\n",
        "    engines=[\n",
        "        {\n",
        "            \"name\": \"pegasus1\",\n",
        "            \"options\": [\"visual\", \"conversation\"],\n",
        "        }\n",
        "    ],\n",
        "    addons=[\"thumbnail\"], # Optional\n",
        ")\n",
        "print(f\"Created index: id={index.id} name={index.name} engines={index.engines}\")\n"
      ],
      "metadata": {
        "colab": {
          "base_uri": "https://localhost:8080/"
        },
        "id": "elAj0cm1Upaa",
        "outputId": "4e683b1e-d979-4786-f454-413df831e9b0"
      },
      "execution_count": 18,
      "outputs": [
        {
          "output_type": "stream",
          "name": "stdout",
          "text": [
            "Created index: id=6660e728e6fb7df29de0e59f name=Temp-Generate-2 engines=root=[Engine(name='pegasus1', options=['visual', 'conversation'], addons=None)]\n"
          ]
        }
      ]
    },
    {
      "cell_type": "markdown",
      "source": [
        "## **Step:2 - Upload videos to an Index**\n",
        "\n",
        "The platform offers the following options for uploading single videos:\n",
        "\n",
        "* Upload from the local file system: Use this option to upload a single video file from the local file system.\n",
        "\n",
        "* Upload from a direct URL: Use this option to upload a video file from a publicly accessible URL. The platform will retrieve the file directly from the specified URL, so your application doesn't have to store the video locally and upload it.\n",
        "\n",
        "* Upload from external providers: Use this option to upload videos from external platforms by retrieving the video directly from the specified source. Currently, only YouTube is supported, but Twelve Labs will add support for additional providers in the future.\n",
        "\n",
        "The video you wish to upload must meet the following requirements:\n",
        "* Video resolution: Must be greater or equal than 360p and less or equal than 4K. For consistent search results, Twelve Labs recommends you upload 360p videos.\n",
        "* Video and audio formats: The video files you wish to upload must be encoded in the video and audio formats listed on the FFmpeg Formats Documentation page. For videos in other formats, contact us at support@twelvelabs.io.\n",
        "* Duration: For Marengo, it must be between 4 seconds and 2 hours (7,200s). For Pegasus, it must be between 4 seconds and 20 minutes (1200s). In a future release, the maximum duration for Pegasus will be 2 hours (7,200 seconds).\n",
        "* File size: Must not exceed 2 GB.\n",
        "* Audio track: If the conversation engine option is selected, the video you're uploading must contain an audio track.\n",
        "\n",
        "Learn more in [docs](https://docs.twelvelabs.io/docs/upload-single-videos)"
      ],
      "metadata": {
        "id": "Sh2Z1mm2XXKg"
      }
    },
    {
      "cell_type": "code",
      "source": [
        "video_files = glob(VIDEO_PATH)\n",
        "if(len(video_files)==0):\n",
        "  raise Exception(\"Video file was not provided\")\n",
        "for video_file in video_files:\n",
        "  print(f\"Uploading {video_file}\")\n",
        "  task = client.task.create(index_id=index.id, file=video_file, language=\"en\")\n",
        "  print(f\"Created task: id={task.id}\")\n",
        "\n",
        "  # (Optional) Monitor the video indexing process\n",
        "  # Utility function to print the status of a video indexing task\n",
        "  def on_task_update(task: Task):\n",
        "          print(f\"  Status={task.status}\")\n",
        "  task.wait_for_done(sleep_interval=50, callback=on_task_update)\n",
        "  if task.status != \"ready\":\n",
        "      raise RuntimeError(f\"Indexing failed with status {task.status}\")\n",
        "  print(f\"Uploaded {video_file}. The unique identifer of your video is {task.video_id}.\")\n"
      ],
      "metadata": {
        "colab": {
          "base_uri": "https://localhost:8080/"
        },
        "id": "nCFHUlrBXaxy",
        "outputId": "cceffbec-62d1-4192-903b-78cb9c5b7932"
      },
      "execution_count": 19,
      "outputs": [
        {
          "output_type": "stream",
          "name": "stdout",
          "text": [
            "Uploading ostrich-racing-every-tuesday-thursday.mp4\n",
            "Created task: id=6660e72ce6fb7df29de0e5a0\n",
            "  Status=pending\n",
            "  Status=pending\n",
            "  Status=indexing\n",
            "  Status=ready\n",
            "Uploaded ostrich-racing-every-tuesday-thursday.mp4. The unique identifer of your video is 6660e72cd22b3a3c97bf134d.\n"
          ]
        }
      ]
    },
    {
      "cell_type": "markdown",
      "source": [
        "## **Step:3 - Generate Summaries and Chapters**"
      ],
      "metadata": {
        "id": "qNhC07lCYGHg"
      }
    },
    {
      "cell_type": "code",
      "source": [
        "#Get all videos in an Index\n",
        "videos = client.index.video.list(index.id)\n",
        "for video in videos:\n",
        "    print(f\"Generating text for {video.id}\")\n",
        "\n",
        "    res = client.generate.gist(video_id=video.id, types=[\"title\", \"topic\", \"hashtag\"])\n",
        "    print(f\"Title: {res.title}\\nTopics={res.topics}\\nHashtags={res.hashtags}\")\n",
        "\n",
        "    res = client.generate.summarize(video_id=video.id, type=\"summary\")\n",
        "    print(f\"Summary: {res.summary}\")\n",
        "\n",
        "    print(\"Chapters:\")\n",
        "    res = client.generate.summarize(video_id=video.id, type=\"chapter\")\n",
        "    for chapter in res.chapters:\n",
        "        print(\n",
        "            f\"  chapter_number={chapter.chapter_number} chapter_title={chapter.chapter_title} chapter_summary={chapter.chapter_summary} start={chapter.start} end={chapter.end}\"\n",
        "        )\n",
        "\n",
        "    print(\"Highlights:\")\n",
        "    res = client.generate.summarize(video_id=video.id, type=\"highlight\")\n",
        "    for highlight in res.highlights:\n",
        "        print(\n",
        "            f\"  Highlight={highlight.highlight} start={highlight.start} end={highlight.end}\"\n",
        "        )\n",
        "\n",
        "    res = client.generate.text(video_id=video.id, prompt=\"Based on this video, I want to generate five keywords for SEO (Search Engine Optimization).\")\n",
        "    print(f\"Open-ended Text: {res.data}\")"
      ],
      "metadata": {
        "colab": {
          "base_uri": "https://localhost:8080/"
        },
        "id": "SeGb7DSpYHjT",
        "outputId": "1a63585d-a4c4-4116-f2f4-ca83527f7181"
      },
      "execution_count": 20,
      "outputs": [
        {
          "output_type": "stream",
          "name": "stdout",
          "text": [
            "Generating text for 6660e72cd22b3a3c97bf134d\n",
            "Title: Ostrich Racing in the Marketplace: Every Tuesday and Thursday\n",
            "Topics=[' Ostrich racing in a marketplace setting, mentioned every Tuesday and Thursday.']\n",
            "Hashtags=['perioddrama', 'marketplace', 'traditionalattire', 'ostrichracing', 'outdoorsetting', 'historicalscene', 'communalarea']\n",
            "Summary: The video presents a captivating scene set in what appears to be a bustling marketplace from a historical or period drama. At the heart of this scene are two main characters, engaging in a friendly and amicable conversation amidst the lively atmosphere of the marketplace. The first character, a man adorned with a turban and traditional attire, exudes a sense of warmth and camaraderie as he talks, his face breaking into a smile. His counterpart, another man characterized by a mustache and beard, dons a white shirt with rolled-up sleeves, signaling a more casual demeanor. He listens attentively to the first man, his own expression mirroring the positive engagement between the two.\n",
            "Their interaction takes an intriguing turn as the topic of \"ostrich racing\" is brought up, with the mention that such events take place every Tuesday and Thursday. This peculiar detail adds a layer of uniqueness to the video, suggesting that the marketplace is not just a hub for trade and socializing but also serves as a setting for uncommon and entertaining activities like ostrich racing. The dust swirling in the air, along with the bright, natural lighting, accentuates the daytime setting, making the marketplace feel alive and dynamic.\n",
            "The video effectively transports viewers to a different time and place, using the conversation between the two main characters to introduce the concept of ostrich racing as a local pastime. The background filled with other people and wooden structures resembling stalls or booths further enriches the scene, offering a glimpse into the day-to-day life within this vibrant historical setting. Through this brief yet immersive experience, the video highlights the importance of community and entertainment in enriching the cultural fabric of any era.\n",
            "Chapters:\n",
            "  chapter_number=0 chapter_title=Marketplace Encounter chapter_summary=In a bustling marketplace setting, two main characters, a man with a turban and another with a mustache, engage in a friendly conversation. Amidst the dusty air and wooden stalls, they discuss ostrich racing, a popular event held every Tuesday and Thursday. start=0 end=5\n",
            "Highlights:\n",
            "  Highlight=Introduction to Ostrich Racing start=0 end=3\n",
            "Open-ended Text: Based on the comprehensive overview of the video, the five keywords for SEO (Search Engine Optimization) that effectively capture the essence of the content would be:\n",
            "\n",
            "1. **Ostrich Racing** - This unique and specific activity mentioned early in the video highlights an unusual, attention-grabbing subject matter that is likely to intrigue potential viewers.\n",
            "2. **Historical Drama** - The setting and attire of characters suggest that the video revolves around a narrative set in a historical or period context, making this a fitting keyword for attracting an audience interested in historical narratives.\n",
            "3. **Cultural Marketplace** - The bustling, communal atmosphere depicted, along with traditional attire and wooden structures, points towards a cultural marketplace setting, which is a key visual element of the video.\n",
            "4. **Traditional Attire** - The detailed description of the characters’ clothing provides a visual treat and suggests an exploration of cultural identities, making it an important keyword.\n",
            "5. **Emotional Interaction** - The amicable interaction between the main characters, as they engage in conversation with smiling faces, underscores the emotional depth and relational dynamics present in the video.\n",
            "\n",
            "These keywords encapsulate the main themes and visual elements of the video, making them highly relevant for SEO purposes to attract a targeted audience.\n"
          ]
        }
      ]
    }
  ]
}