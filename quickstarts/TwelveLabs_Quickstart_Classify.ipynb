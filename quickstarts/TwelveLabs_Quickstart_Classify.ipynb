{
  "nbformat": 4,
  "nbformat_minor": 0,
  "metadata": {
    "colab": {
      "provenance": []
    },
    "kernelspec": {
      "name": "python3",
      "display_name": "Python 3"
    },
    "language_info": {
      "name": "python"
    }
  },
  "cells": [
    {
      "cell_type": "markdown",
      "source": [
        "<table align=\"left\">\n",
        "  <td>\n",
        "    <a target=\"_blank\" href=\"https://colab.research.google.com/drive/1nLvDQdg2Ag-V6nPVrShpNGWxB4RGUMpt?usp=sharing\"><img src=\"https://www.tensorflow.org/images/colab_logo_32px.png\" />Run in  Colab</a>\n",
        "  </td>\n",
        "</table>"
      ],
      "metadata": {
        "id": "yMOpOuAtwwFo"
      }
    },
    {
      "cell_type": "markdown",
      "source": [
        "##**Installation of TwelveLabs SDKs**"
      ],
      "metadata": {
        "id": "VmpYRcFNT30r"
      }
    },
    {
      "cell_type": "code",
      "execution_count": 1,
      "metadata": {
        "id": "ME3drNyaS-dV",
        "colab": {
          "base_uri": "https://localhost:8080/"
        },
        "outputId": "d9c1dde7-9c9c-4fca-acb6-aae65c9f26cd"
      },
      "outputs": [
        {
          "output_type": "stream",
          "name": "stdout",
          "text": [
            "\u001b[2K     \u001b[90m━━━━━━━━━━━━━━━━━━━━━━━━━━━━━━━━━━━━━━━━\u001b[0m \u001b[32m395.8/395.8 kB\u001b[0m \u001b[31m7.8 MB/s\u001b[0m eta \u001b[36m0:00:00\u001b[0m\n",
            "\u001b[2K     \u001b[90m━━━━━━━━━━━━━━━━━━━━━━━━━━━━━━━━━━━━━━━━\u001b[0m \u001b[32m75.0/75.0 kB\u001b[0m \u001b[31m3.5 MB/s\u001b[0m eta \u001b[36m0:00:00\u001b[0m\n",
            "\u001b[2K     \u001b[90m━━━━━━━━━━━━━━━━━━━━━━━━━━━━━━━━━━━━━━━━\u001b[0m \u001b[32m77.9/77.9 kB\u001b[0m \u001b[31m4.1 MB/s\u001b[0m eta \u001b[36m0:00:00\u001b[0m\n",
            "\u001b[2K     \u001b[90m━━━━━━━━━━━━━━━━━━━━━━━━━━━━━━━━━━━━━━━━\u001b[0m \u001b[32m2.0/2.0 MB\u001b[0m \u001b[31m17.7 MB/s\u001b[0m eta \u001b[36m0:00:00\u001b[0m\n",
            "\u001b[2K     \u001b[90m━━━━━━━━━━━━━━━━━━━━━━━━━━━━━━━━━━━━━━━━\u001b[0m \u001b[32m58.3/58.3 kB\u001b[0m \u001b[31m4.2 MB/s\u001b[0m eta \u001b[36m0:00:00\u001b[0m\n",
            "\u001b[?25h"
          ]
        }
      ],
      "source": [
        "!pip install -U -q twelvelabs\n",
        "from twelvelabs import TwelveLabs\n",
        "from twelvelabs.models.task import Task"
      ]
    },
    {
      "cell_type": "markdown",
      "source": [],
      "metadata": {
        "id": "PQ-gihrzrsm7"
      }
    },
    {
      "cell_type": "markdown",
      "source": [
        "##**Configure your API key. Add API Key as a env variable.**\n",
        "Signup for TwelveLabs and Get your API keys [here](https://playground.twelvelabs.xyz/dashboard/api-key). No credit card is required to use the Free plan. The Free plan includes indexing of 600 mins of videos, which is enough for a small project.\n",
        "\n",
        "*To run the following cell in a*\n",
        "* *Colab Notebook, your API key must be stored it in a Colab Secret named TL_API_KEY. If you don't already have an API key, or you're not sure how to create a Colab Secret, see [this](https://medium.com/@parthdasawant/how-to-use-secrets-in-google-colab-450c38e3ec75) for an example.*\n",
        "* *In other Python environments, You can also use Python variables using `os.environ()`*\n",
        "\n"
      ],
      "metadata": {
        "id": "G47PrcTKUJEP"
      }
    },
    {
      "cell_type": "code",
      "source": [
        "from google.colab import userdata\n",
        "TL_API_KEY=userdata.get('TL_API_KEY')"
      ],
      "metadata": {
        "id": "9DBGRVboTEue"
      },
      "execution_count": 2,
      "outputs": []
    },
    {
      "cell_type": "markdown",
      "source": [
        "## **Step:1 - Create Index (You can also use an existing Index)**\n",
        "Two main inputs needed for Index creation is the Engine Type and Engine Options. Learn more [here](https://docs.twelvelabs.io/docs/create-indexes).\n",
        "\n",
        "**Twelve Labs provides two distinct engine types** - embedding and generative, each serving unique purposes in multimodal video understanding.\n",
        "\n",
        "* Embedding engines (Marengo) : `marengo2.6` engine is proficient at performing tasks such as search and classification, enabling enhanced video understanding.\n",
        "* Generative engines (Pegasus): `pegasus1` engine generates text based on your videos.\n",
        "Learn more [here](https://docs.twelvelabs.io/docs/video-understanding-engines)\n",
        "\n",
        "> *Video Duration limits: For Marengo, it must be between 4 seconds and 2 hours (7,200s). For Pegasus, it must be between 4 seconds and 20 minutes (1200s). In a future release, the maximum duration for Pegasus will be 2 hours (7,200 seconds).*\n",
        "\n",
        "\n",
        "You can use both engines on the same index but the limits of Pegasus will apply. E.g. If you create an Index with both `Marengo` and `Pegasus` then you will be limited to videos with maximum duration of 20mins.\n",
        "\n",
        "**Engine options** indicate the types of information a video understanding engine will process. When creating a new index, you must specify the engines and the associated engines options that you want to enable.\n",
        "\n",
        "The following engine options are available:\n",
        "\n",
        "* `visual`: This option allows you to analyze video content as you would see and hear from it, including actions, objects, sounds, and events, and excluding human speech.\n",
        "* `conversation`: This option allows you to analyze human speech within your videos.\n",
        "* `text_in_video`: This option allows you to detect and extract text (OCR) shown within your videos. *This option is not available for `Pegasus` Engine type.*\n",
        "* `logo`: This option allows you to identify the presence of brand logos within your videos. *This option is not available for `Pegasus` Engine type.*"
      ],
      "metadata": {
        "id": "zhXzSOCgUdmv"
      }
    },
    {
      "cell_type": "code",
      "source": [
        "import os\n",
        "from glob import glob\n",
        "client = TwelveLabs(api_key=TL_API_KEY)\n",
        "\n",
        "index = client.index.create(\n",
        "    name=\"Temp-1\",\n",
        "    engines=[\n",
        "        {\n",
        "            \"name\": \"marengo2.6\",\n",
        "            \"options\": [\"visual\", \"conversation\", \"text_in_video\"],\n",
        "        }\n",
        "    ],\n",
        "    addons=[\"thumbnail\"], # Optional\n",
        ")\n",
        "print(f\"Created index: id={index.id} name={index.name} engines={index.engines}\")\n"
      ],
      "metadata": {
        "colab": {
          "base_uri": "https://localhost:8080/"
        },
        "id": "elAj0cm1Upaa",
        "outputId": "59e1f01d-0d08-47dd-f737-afd860bb65ad"
      },
      "execution_count": null,
      "outputs": [
        {
          "output_type": "stream",
          "name": "stdout",
          "text": [
            "Created index: id=6660dd8ce6fb7df29de0e589 name=Temp-1 engines=root=[Engine(name='marengo2.6', options=['visual', 'conversation', 'text_in_video'], addons=None)]\n"
          ]
        }
      ]
    },
    {
      "cell_type": "markdown",
      "source": [
        "## **Step:2 - Classify Videos in an Index**\n",
        "\n",
        "Videos need to be Indexed before running Classify on the Index. Upload videos in the Index created above. You can do it using API or using the Playground directly.\n",
        "\n",
        "Learn more in [docs](https://docs.twelvelabs.io/docs/content-classification)"
      ],
      "metadata": {
        "id": "Sh2Z1mm2XXKg"
      }
    },
    {
      "cell_type": "code",
      "source": [
        "from twelvelabs import TwelveLabs\n",
        "client = TwelveLabs(api_key=TL_API_KEY)\n",
        "\n",
        "CLASSES = [\n",
        "    {\n",
        "            \"name\": \"BeautyTok\",\n",
        "            \"prompts\": [\n",
        "                \"Makeup\",\n",
        "                \"Skincare\",\n",
        "                \"cosmetic products\",\n",
        "                \"doing nails\",\n",
        "                \"doing hair\",\n",
        "                \"eyeshadow\",\n",
        "                \"lipstick\",\n",
        "                \"blush\"\n",
        "            ]\n",
        "        },\n",
        "        {\n",
        "            \"name\": \"DanceTok\",\n",
        "            \"prompts\": [\n",
        "                \"dance tutorial\",\n",
        "                \"dance competition\",\n",
        "                \"dance challenge\",\n",
        "                \"dance trend\",\n",
        "                \"dancing with friends\",\n",
        "                \"dance class\",\n",
        "                \"dance moves\",\n",
        "                \"dance lessons\",\n",
        "                \"dance choreography\",\n",
        "                \"dance performances\"\n",
        "            ]\n",
        "        },\n",
        "        {\n",
        "            \"name\": \"CookTok\",\n",
        "            \"prompts\": [\n",
        "                \"cooking tutorial\",\n",
        "                \"cooking utensils \",\n",
        "                \"baking tutorials\",\n",
        "                \"recipes\",\n",
        "                \"restaurants\",\n",
        "                \"food\",\n",
        "                \"cooking utensils\",\n",
        "                \"cooking tips\",\n",
        "                \"cooking techniques\",\n",
        "                \"healthy cooking\"\n",
        "            ]\n",
        "        },\n",
        "        {\n",
        "            \"name\": \"AnimalTok\",\n",
        "            \"prompts\": [\n",
        "                \"dog\",\n",
        "                \"cat\",\n",
        "                \"birds\",\n",
        "                \"fish \",\n",
        "                \"playing with pets\",\n",
        "                \"fish\",\n",
        "                \"feeding pets\",\n",
        "                \"caring for animals\"\n",
        "            ]\n",
        "        },\n",
        "        {\n",
        "            \"name\": \"KidTok\",\n",
        "            \"prompts\": [\n",
        "                \"babies\",\n",
        "                \"little girl\",\n",
        "                \"little boy\",\n",
        "                \"kids \",\n",
        "                \"toddlers\",\n",
        "                \"children\",\n",
        "                \"animation\",\n",
        "                \"kid toys\"\n",
        "            ]\n",
        "        },\n",
        "        {\n",
        "            \"name\": \"FashionTok\",\n",
        "            \"prompts\": [\n",
        "                \"clothing\",\n",
        "                \"outfit\",\n",
        "                \"fashion design\",\n",
        "                \"mens fashion\",\n",
        "                \"womens fashion\",\n",
        "                \"find your style\",\n",
        "                \"upcoming fashion trends\",\n",
        "                \"streetwear\",\n",
        "                \"style advice\"\n",
        "            ]\n",
        "        },\n",
        "        {\n",
        "            \"name\": \"ArtTok\",\n",
        "            \"prompts\": [\n",
        "                \"handicraft\",\n",
        "                \"drawing\",\n",
        "                \"graffiti\",\n",
        "                \"sketching\",\n",
        "                \"digital art\",\n",
        "                \"sketchbook\",\n",
        "                \"artists\",\n",
        "                \"artwork\",\n",
        "                \"painting\"\n",
        "            ]\n",
        "        },\n",
        "        {\n",
        "            \"name\": \"FitTok\",\n",
        "            \"prompts\": [\n",
        "                \"doing exercises\",\n",
        "                \"workout\",\n",
        "                \"being active\",\n",
        "                \"staying active\",\n",
        "                \"personal trainer\",\n",
        "                \"going to the gym\",\n",
        "                \"weight training\",\n",
        "                \"yoga\"\n",
        "            ]\n",
        "        }\n",
        "]\n",
        "index = client.index.retrieve(\"6626da222f55b3f7ebfaa049\")\n",
        "videos = client.index.video.list(index.id, page_limit=50)\n",
        "if len(videos) == 0:\n",
        "  print(f\"No videos in index {index.id}, exit\")\n",
        "  exit()\n",
        "video_ids = [video.id for video in videos]\n",
        "\n",
        "# Utility function to print a specific page\n",
        "def print_page(page):\n",
        "  for data in page:\n",
        "      print(f\"video_id={data.video_id}\")\n",
        "      for cl in data.classes:\n",
        "          print(\n",
        "              f\"  name={cl.name} score={cl.score} duration_ratio={cl.duration_ratio}\"\n",
        "              #      clips={cl.clips}\"\n",
        "          )\n",
        "\n",
        "print(\"Classify by index: \")\n",
        "res = client.classify.index(\n",
        "    index.id, options=[\"visual\", \"conversation\"],\n",
        "    classes=CLASSES,\n",
        "    # include_clips=True\n",
        ")\n",
        "\n",
        "print_page(res.data)\n",
        "\n",
        "while True:\n",
        "    try:\n",
        "        next_page_data = next(res)\n",
        "        print_page(next_page_data)\n",
        "    except StopIteration:\n",
        "        break"
      ],
      "metadata": {
        "colab": {
          "base_uri": "https://localhost:8080/"
        },
        "id": "nCFHUlrBXaxy",
        "outputId": "8db81c50-997a-4712-f552-f1d543a2e4f0"
      },
      "execution_count": 9,
      "outputs": [
        {
          "output_type": "stream",
          "name": "stdout",
          "text": [
            "Classify by index: \n",
            "video_id=66450317d22b3a3c97bee580\n",
            "  name=KidTok score=94.33 duration_ratio=1.0\n",
            "video_id=66450318d22b3a3c97bee581\n",
            "  name=CookTok score=94.24 duration_ratio=0.83\n",
            "video_id=66450318d22b3a3c97bee583\n",
            "  name=ArtTok score=93.31 duration_ratio=0.83\n",
            "video_id=66450318d22b3a3c97bee582\n",
            "  name=FashionTok score=92.22 duration_ratio=1.0\n",
            "video_id=66450318d22b3a3c97bee585\n",
            "  name=KidTok score=90.43 duration_ratio=0.71\n"
          ]
        }
      ]
    }
  ]
}